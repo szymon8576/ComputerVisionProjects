{
  "cells": [
    {
      "cell_type": "markdown",
      "source": [
        "AUTORZY: Szymon Sroka 141312, Weronika Radzi 141303\n",
        "\n",
        "Zadanie wykonaliśmy w wariancie ze śledzeniem kul, wykrywaniem zderzenia się dwóch dowolnych kul oraz wpadnięcia kuli do łuzy. W stworzonym algorytmie możemy wyodrębnić następujące etapy:\n",
        "\n",
        "1. *find_objects()* - Detekcja położenie kul w pierwszej klatce filmu (czyli innymi słowy wykrycie punktów, które powinny być śledzone). Postanowliśmy wykrywać je z pomocą kilku obrazów-szablonów przedstawiających kule, oznaczonych w plikach wejściowych jako ball_1.png, ball_2.png itd. Wspomniane szablony zostały razem z pierwszą klatką filmu podane do metody cv2.matchTemplate(), która zwróciła zbiór żądanych punktów. \n",
        "2. *remove_duplicates()* - Usunięcie duplikatów punktów ze zbioru uzyskanego w punkcie 1. Za duplikaty uznajemy punkty, których wzajemna odległość euklidesowa jest mniejsza lub równa 15.\n",
        "3. *detect_actions()* - Śledzenie kul i interpratacja otrzymywanych wyników. Do śledzenia ruchu optycznego użyliśmy cv2.calcOpticalFlowPyrLK(). W celu detekcji **zderzenia bil** dla każdej klatki jest obliczana macierz odległości między kulami dla aktualnej i poprzedniej klatki i w sytuacji, gdy odległość między danymi kulami w poprzedniej klatce jest większa niż wyznaczony empirycznie próg (15) i jednocześnie ta odległość w aktualnej klatce jest mniejsza niż 15, to uznajemy taką sytuację za zderzenie kul. Jako **wpadnięcie bili do łuzy** interpretujemy zniknięcie śledzonego punktu-bili z pola widzenia (a zatem zmienienie dla danej kuli wartości z 1 na 0 w macierzy st, zwracanej przez calcOpticalFlowPyrLK())\n",
        "\n",
        "Śledzenie kul zostało zaprezentowane za pomocą otoczenia ich okręgami, podania obok tych okręgów identyfiaktorów przydzielonym danym kulom i rysowania przebytych przez nie tras. \n",
        "\n",
        "W przypadku wykrycia zderzenia lub wpadnięcia bili do łuzy na filmie wyświetlany jest odpowiedni napis, a film zostaje na kilkanaście klatek zatrzymany, w celu możliwości zaobserwowania danego zdarzenia. Takie zachowanie można wyłączyć, ustawiając wartość parametru ,,freeze_mode\" w funkcji detect_actions() na false. \n",
        "\n",
        "Uzyskane efekty w ogólności uznajemy za dobre; zazwyczaj prawidłowo działa wykrywanie obiektów-bil oraz ich śledzenie, gorszą jakość uzyskiwanych wyników obserwujemy dla detekcji wpadnięcia bili do łuzy czy śledzenia ich, gdy ich prędkość jest relatywnie duża. Uważamy, że algorytm można ulepszyć poprzez tuning parametrów sterujacych przetwarzaniem obrazu, a także poprzez wprowadzenie ulepszenia polegającego na detekcji położenia łuz i wykorzystaniu uzyskanych informacji do wykrywania zniknięcia bil (na podstawie wzajemnego położenia bil i wyżej wspomnianych łuz), zamiast polegania wyłącznie na wynikach zwracanych przez calcOpticalFlowPyrLK(). Przewidujemy również, że wybór filmów z większą liczbą FPS niż zastosowane 30 klatek na sekundę wpłynąłby korzystnie na efekty przetwarzania."
      ],
      "metadata": {
        "id": "MCFv3GSH7xUM"
      }
    },
    {
      "cell_type": "code",
      "execution_count": null,
      "metadata": {
        "id": "u9_vETWY0cZo"
      },
      "outputs": [],
      "source": [
        "# necessary imports\n",
        "import cv2 \n",
        "import numpy as np\n",
        "from ipywidgets import Video\n",
        "from google.colab.patches import cv2_imshow"
      ]
    },
    {
      "cell_type": "code",
      "execution_count": null,
      "metadata": {
        "id": "2Q_lKBCE0cZ4"
      },
      "outputs": [],
      "source": [
        "# finding points to follow using templates\n",
        "# returns p0 and old_frame\n",
        "def find_objects(vid, filenames):\n",
        "  ret, old_frame = vid.read()\n",
        "  old_gray = cv2.cvtColor(old_frame, cv2.COLOR_BGR2GRAY)\n",
        "\n",
        "  loc_x, loc_y = np.array([]), np.array([])\n",
        "  for filename in filenames: # iterating over templates\n",
        "      template = cv2.imread(filename,0)\n",
        "      w, h = template.shape[::-1]\n",
        "      \n",
        "      res = cv2.matchTemplate(old_gray,template,cv2.TM_CCOEFF_NORMED)\n",
        "      threshold = 0.8\n",
        "\n",
        "      loc_x = np.concatenate((loc_x, np.where( res >= threshold)[1] ))\n",
        "      loc_y = np.concatenate((loc_y, np.where( res >= threshold)[0] ))\n",
        "      \n",
        "  return np.stack((loc_x.flatten()+h//2,loc_y.flatten()+w//2),axis=1).astype(np.float32), old_frame \n",
        "\n",
        "\n",
        "# determines if two points a and b differ (with tolerance)\n",
        "def differ(a,b, tolerance = 15):\n",
        "  return False if np.sqrt((a[0]-b[0])**2+(a[1]-b[1])**2) <= tolerance else True\n",
        "\n",
        "\n",
        "# removes duplicates from set of points (with tolerance)\n",
        "def remove_duplicates(points):\n",
        "  result = []\n",
        "  for point in points:\n",
        "      if all(differ(point,other) for other in result):\n",
        "          result.append(point)\n",
        "  return result\n"
      ]
    },
    {
      "cell_type": "code",
      "execution_count": null,
      "metadata": {
        "id": "2G8w7JCZ0cZ6"
      },
      "outputs": [],
      "source": [
        "from scipy.spatial.distance import squareform, pdist\n",
        "\n",
        "def which_collided(p0, p1):\n",
        "\n",
        "    old_dist, new_dist = squareform(pdist(p0.reshape(p0.shape[0],2))), squareform(pdist(p1.reshape(p1.shape[0],2)))\n",
        "\n",
        "    res = []\n",
        "    for i,j in np.ndindex(old_dist.shape):\n",
        "      if old_dist [i,j] > 15 > new_dist[i,j]:\n",
        "        if [j,i] not in res:\n",
        "          res.append([i,j])\n",
        "    return res \n",
        "\n",
        "def detect_actions(vid, p0, lk_params, old_frame, filename, freeze_mode=True):\n",
        " \n",
        "  color = np.random.randint(0,255,(1000,3))  # some random colors for marking billard balls tracks\n",
        "\n",
        "  result_filename = filename.split(\".\")[0]+\"_result.mp4\"\n",
        "  \n",
        "  result_video = cv2.VideoWriter(result_filename, \n",
        "                                 cv2.VideoWriter_fourcc(*'DIVX'), \n",
        "                                 int(vid.get(cv2.CAP_PROP_FPS)), \n",
        "                                 (int(vid.get(3)), int(vid.get(4))))\n",
        "\n",
        "  mask = np.zeros_like(old_frame)\n",
        "\n",
        "  old_gray = cv2.cvtColor(old_frame, cv2.COLOR_BGR2GRAY)\n",
        "\n",
        "  vid.set(cv2.CAP_PROP_POS_FRAMES, 0)\n",
        "\n",
        "  st_old =  None\n",
        "\n",
        "  while vid.isOpened():\n",
        "    \n",
        "    ret, frame = vid.read()\n",
        "\n",
        "    if ret:\n",
        "      frame_gray = cv2.cvtColor(frame, cv2.COLOR_BGR2GRAY)\n",
        "      p1, st, err = cv2.calcOpticalFlowPyrLK(old_gray, frame_gray, p0, None, **lk_params)\n",
        "\n",
        "      if p0 is None or p1 is None: break\n",
        "\n",
        "      collisions, disappears = which_collided(p0, p1), []\n",
        "      \n",
        "      if st_old is not None:\n",
        "        for i in range(len(p0)):\n",
        "            if st_old[i] == 1 and st[i] == 0: \n",
        "              disappears.append(i)\n",
        "      \n",
        "      if len(disappears) > 0:   ball_text = cv2.putText(frame, \n",
        "                                f\"Ball no. {disappears} disappeared\",\n",
        "                                (30, int(0.95*int(vid.get(4)))),\n",
        "                                cv2.FONT_HERSHEY_SIMPLEX,\n",
        "                                1, (255,255,255), 2)\n",
        "\n",
        "      if p1 is not None:\n",
        "        \n",
        "        good_new = p1[st==1]\n",
        "        good_old = p0[st==1]\n",
        "\n",
        "      for i,(new,old) in enumerate(zip(good_new, good_old)):\n",
        "        a,b = new.ravel()\n",
        "        c,d = old.ravel()\n",
        "        \n",
        "        mask = cv2.line(mask, (int(a),int(b)),(int(c),int(d)), (color[i].tolist()), 2)\n",
        "        ball_text = cv2.putText(frame, \n",
        "                                f\"{i}{'(collision)' if i in [a for a, _ in collisions] else ''}\",\n",
        "                                (int(c)+25,int(d)),\n",
        "                                cv2.FONT_HERSHEY_SIMPLEX,\n",
        "                                0.5, (255,255,255), 1)\n",
        "        frame = cv2.circle(frame,(int(a),int(b)),20,(color[i].tolist()), 2)\n",
        "      \n",
        "      old_gray = frame_gray.copy()\n",
        "      p0 = good_new.reshape(-1,1,2)\n",
        "      st_old = st\n",
        "\n",
        "      result_video.write(cv2.add(frame, mask, ball_text))\n",
        "\n",
        "      if (len(collisions) > 0 or len(disappears) > 0) and freeze_mode:\n",
        "        for _ in range(35): result_video.write(frame)\n",
        "    \n",
        "    else:\n",
        "        break\n",
        "\n",
        "  result_video.release()\n",
        "  return result_filename"
      ]
    },
    {
      "cell_type": "code",
      "source": [
        "def get_result(filename, lk_params, template_filenames):\n",
        "  vid = cv2.VideoCapture(filename)\n",
        "  p0, old_frame = find_objects(vid,templates_filenames)\n",
        "  p0 = remove_duplicates(p0)\n",
        "  p0 = np.array([np.array([x]) for x in p0])  # prepare found points before passing them to detect_actions()\n",
        "  return detect_actions(vid, p0, lk_params, old_frame, filename)\n"
      ],
      "metadata": {
        "id": "j5Zeovh_1SZa"
      },
      "execution_count": null,
      "outputs": []
    },
    {
      "cell_type": "code",
      "source": [
        "# defining params\n",
        "templates_filenames = ['ball.png','ball_1.png','ball_2.png', 'ball_3.png']\n",
        "\n",
        "lk_params = dict(winSize=(10,10),\n",
        "                 maxLevel=1,\n",
        "                criteria=(cv2.TERM_CRITERIA_EPS | cv2.TERM_CRITERIA_COUNT, 100,  1))"
      ],
      "metadata": {
        "id": "0VYi0u69kDOX"
      },
      "execution_count": null,
      "outputs": []
    },
    {
      "cell_type": "code",
      "source": [
        "filename = \"(3).mp4\"\n",
        "result_filename = get_result(filename, lk_params, templates_filenames)\n",
        "!ffmpeg -hide_banner -loglevel error -i '{result_filename}' -y xyz.mp4\n",
        "Video.from_file(f\"./xyz.mp4\")"
      ],
      "metadata": {
        "colab": {
          "base_uri": "https://localhost:8080/",
          "height": 746,
          "referenced_widgets": [
            "6b872d1fce3548c78bf62b4c4413226f",
            "79b8f06a81cb41a485ed9c3213a38aea"
          ]
        },
        "id": "GnXzE6Cpw-KN",
        "outputId": "a61cd713-bcf5-4717-a1cd-54ab315b415b"
      },
      "execution_count": null,
      "outputs": [
        {
          "output_type": "display_data",
          "data": {
            "text/plain": [
              "Video(value=b'\\x00\\x00\\x00 ftypisom\\x00\\x00\\x02\\x00isomiso2avc1mp41\\x00\\x00\\x00\\x08free\\x00\\x03\\x95\\xe6mdat\\x0…"
            ],
            "application/vnd.jupyter.widget-view+json": {
              "version_major": 2,
              "version_minor": 0,
              "model_id": "6b872d1fce3548c78bf62b4c4413226f"
            }
          },
          "metadata": {}
        }
      ]
    },
    {
      "cell_type": "code",
      "source": [
        "filename = \"(2).mp4\"\n",
        "result_filename = get_result(filename, lk_params, templates_filenames)\n",
        "!ffmpeg -hide_banner -loglevel error -i '{result_filename}' -y xyz.mp4\n",
        "Video.from_file(f\"./xyz.mp4\")"
      ],
      "metadata": {
        "id": "RQ1f5nzfxSwC",
        "colab": {
          "base_uri": "https://localhost:8080/",
          "height": 176,
          "referenced_widgets": [
            "64e071112f234bb1bd41ebf0464498b9",
            "8cb3d02251c44071b01eb722ff912569"
          ]
        },
        "outputId": "ba300b32-6c03-40d0-a4ab-32de306c403a"
      },
      "execution_count": null,
      "outputs": [
        {
          "output_type": "display_data",
          "data": {
            "text/plain": [
              "Video(value=b'\\x00\\x00\\x00 ftypisom\\x00\\x00\\x02\\x00isomiso2avc1mp41\\x00\\x00\\x00\\x08free\\x00\\x05\\xd1\\tmdat\\x00\\…"
            ],
            "application/vnd.jupyter.widget-view+json": {
              "version_major": 2,
              "version_minor": 0,
              "model_id": "64e071112f234bb1bd41ebf0464498b9"
            }
          },
          "metadata": {}
        }
      ]
    },
    {
      "cell_type": "code",
      "source": [
        "filename = \"(1).mp4\"\n",
        "result_filename = get_result(filename, lk_params, templates_filenames)\n",
        "!ffmpeg -hide_banner -loglevel error -i '{result_filename}' -y xyz.mp4\n",
        "Video.from_file(f\"./xyz.mp4\")"
      ],
      "metadata": {
        "id": "V88B9hZkqkb9",
        "colab": {
          "base_uri": "https://localhost:8080/",
          "height": 746,
          "referenced_widgets": [
            "985b303331094573be24b0dd4fd9deee",
            "59bd29ccfb1a492e90600260cb995c5f"
          ]
        },
        "outputId": "a7335b2d-d0a9-40f9-fc88-400d6cc85f60"
      },
      "execution_count": null,
      "outputs": [
        {
          "output_type": "display_data",
          "data": {
            "text/plain": [
              "Video(value=b'\\x00\\x00\\x00 ftypisom\\x00\\x00\\x02\\x00isomiso2avc1mp41\\x00\\x00\\x00\\x08free\\x00\\x07\\xc3\\xc2mdat\\x0…"
            ],
            "application/vnd.jupyter.widget-view+json": {
              "version_major": 2,
              "version_minor": 0,
              "model_id": "985b303331094573be24b0dd4fd9deee"
            }
          },
          "metadata": {}
        }
      ]
    }
  ],
  "metadata": {
    "kernelspec": {
      "display_name": "Python 3",
      "language": "python",
      "name": "python3"
    },
    "language_info": {
      "codemirror_mode": {
        "name": "ipython",
        "version": 3
      },
      "file_extension": ".py",
      "mimetype": "text/x-python",
      "name": "python",
      "nbconvert_exporter": "python",
      "pygments_lexer": "ipython3",
      "version": "3.7.6"
    },
    "colab": {
      "name": "WK_projekt_2.ipynb",
      "provenance": [],
      "collapsed_sections": []
    },
    "widgets": {
      "application/vnd.jupyter.widget-state+json": {
        "6b872d1fce3548c78bf62b4c4413226f": {
          "model_module": "@jupyter-widgets/controls",
          "model_name": "VideoModel",
          "model_module_version": "1.5.0",
          "state": {
            "_dom_classes": [],
            "_model_module": "@jupyter-widgets/controls",
            "_model_module_version": "1.5.0",
            "_model_name": "VideoModel",
            "_view_count": null,
            "_view_module": "@jupyter-widgets/controls",
            "_view_module_version": "1.5.0",
            "_view_name": "VideoView",
            "autoplay": true,
            "controls": true,
            "format": "mp4",
            "height": "",
            "layout": "IPY_MODEL_79b8f06a81cb41a485ed9c3213a38aea",
            "loop": true,
            "width": ""
          }
        },
        "79b8f06a81cb41a485ed9c3213a38aea": {
          "model_module": "@jupyter-widgets/base",
          "model_name": "LayoutModel",
          "model_module_version": "1.2.0",
          "state": {
            "_model_module": "@jupyter-widgets/base",
            "_model_module_version": "1.2.0",
            "_model_name": "LayoutModel",
            "_view_count": null,
            "_view_module": "@jupyter-widgets/base",
            "_view_module_version": "1.2.0",
            "_view_name": "LayoutView",
            "align_content": null,
            "align_items": null,
            "align_self": null,
            "border": null,
            "bottom": null,
            "display": null,
            "flex": null,
            "flex_flow": null,
            "grid_area": null,
            "grid_auto_columns": null,
            "grid_auto_flow": null,
            "grid_auto_rows": null,
            "grid_column": null,
            "grid_gap": null,
            "grid_row": null,
            "grid_template_areas": null,
            "grid_template_columns": null,
            "grid_template_rows": null,
            "height": null,
            "justify_content": null,
            "justify_items": null,
            "left": null,
            "margin": null,
            "max_height": null,
            "max_width": null,
            "min_height": null,
            "min_width": null,
            "object_fit": null,
            "object_position": null,
            "order": null,
            "overflow": null,
            "overflow_x": null,
            "overflow_y": null,
            "padding": null,
            "right": null,
            "top": null,
            "visibility": null,
            "width": null
          }
        },
        "64e071112f234bb1bd41ebf0464498b9": {
          "model_module": "@jupyter-widgets/controls",
          "model_name": "VideoModel",
          "model_module_version": "1.5.0",
          "state": {
            "_dom_classes": [],
            "_model_module": "@jupyter-widgets/controls",
            "_model_module_version": "1.5.0",
            "_model_name": "VideoModel",
            "_view_count": null,
            "_view_module": "@jupyter-widgets/controls",
            "_view_module_version": "1.5.0",
            "_view_name": "VideoView",
            "autoplay": true,
            "controls": true,
            "format": "mp4",
            "height": "",
            "layout": "IPY_MODEL_8cb3d02251c44071b01eb722ff912569",
            "loop": true,
            "width": ""
          }
        },
        "8cb3d02251c44071b01eb722ff912569": {
          "model_module": "@jupyter-widgets/base",
          "model_name": "LayoutModel",
          "model_module_version": "1.2.0",
          "state": {
            "_model_module": "@jupyter-widgets/base",
            "_model_module_version": "1.2.0",
            "_model_name": "LayoutModel",
            "_view_count": null,
            "_view_module": "@jupyter-widgets/base",
            "_view_module_version": "1.2.0",
            "_view_name": "LayoutView",
            "align_content": null,
            "align_items": null,
            "align_self": null,
            "border": null,
            "bottom": null,
            "display": null,
            "flex": null,
            "flex_flow": null,
            "grid_area": null,
            "grid_auto_columns": null,
            "grid_auto_flow": null,
            "grid_auto_rows": null,
            "grid_column": null,
            "grid_gap": null,
            "grid_row": null,
            "grid_template_areas": null,
            "grid_template_columns": null,
            "grid_template_rows": null,
            "height": null,
            "justify_content": null,
            "justify_items": null,
            "left": null,
            "margin": null,
            "max_height": null,
            "max_width": null,
            "min_height": null,
            "min_width": null,
            "object_fit": null,
            "object_position": null,
            "order": null,
            "overflow": null,
            "overflow_x": null,
            "overflow_y": null,
            "padding": null,
            "right": null,
            "top": null,
            "visibility": null,
            "width": null
          }
        },
        "985b303331094573be24b0dd4fd9deee": {
          "model_module": "@jupyter-widgets/controls",
          "model_name": "VideoModel",
          "model_module_version": "1.5.0",
          "state": {
            "_dom_classes": [],
            "_model_module": "@jupyter-widgets/controls",
            "_model_module_version": "1.5.0",
            "_model_name": "VideoModel",
            "_view_count": null,
            "_view_module": "@jupyter-widgets/controls",
            "_view_module_version": "1.5.0",
            "_view_name": "VideoView",
            "autoplay": true,
            "controls": true,
            "format": "mp4",
            "height": "",
            "layout": "IPY_MODEL_59bd29ccfb1a492e90600260cb995c5f",
            "loop": true,
            "width": ""
          }
        },
        "59bd29ccfb1a492e90600260cb995c5f": {
          "model_module": "@jupyter-widgets/base",
          "model_name": "LayoutModel",
          "model_module_version": "1.2.0",
          "state": {
            "_model_module": "@jupyter-widgets/base",
            "_model_module_version": "1.2.0",
            "_model_name": "LayoutModel",
            "_view_count": null,
            "_view_module": "@jupyter-widgets/base",
            "_view_module_version": "1.2.0",
            "_view_name": "LayoutView",
            "align_content": null,
            "align_items": null,
            "align_self": null,
            "border": null,
            "bottom": null,
            "display": null,
            "flex": null,
            "flex_flow": null,
            "grid_area": null,
            "grid_auto_columns": null,
            "grid_auto_flow": null,
            "grid_auto_rows": null,
            "grid_column": null,
            "grid_gap": null,
            "grid_row": null,
            "grid_template_areas": null,
            "grid_template_columns": null,
            "grid_template_rows": null,
            "height": null,
            "justify_content": null,
            "justify_items": null,
            "left": null,
            "margin": null,
            "max_height": null,
            "max_width": null,
            "min_height": null,
            "min_width": null,
            "object_fit": null,
            "object_position": null,
            "order": null,
            "overflow": null,
            "overflow_x": null,
            "overflow_y": null,
            "padding": null,
            "right": null,
            "top": null,
            "visibility": null,
            "width": null
          }
        }
      }
    }
  },
  "nbformat": 4,
  "nbformat_minor": 0
}